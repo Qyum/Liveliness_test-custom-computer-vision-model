{
 "cells": [
  {
   "cell_type": "code",
   "execution_count": 1,
   "metadata": {},
   "outputs": [],
   "source": [
    "import tensorflow as tf \n",
    "from tensorflow.python.platform import gfile"
   ]
  },
  {
   "cell_type": "code",
   "execution_count": 2,
   "metadata": {},
   "outputs": [],
   "source": [
    "interpreter = tf.lite.Interpreter(model_path=\"E:/eye_blink_detection/iris_landmark.tflite\")\n",
    "interpreter.allocate_tensors()"
   ]
  },
  {
   "cell_type": "code",
   "execution_count": 3,
   "metadata": {},
   "outputs": [
    {
     "name": "stdout",
     "output_type": "stream",
     "text": [
      "[{'name': 'input_1', 'index': 0, 'shape': array([ 1, 64, 64,  3]), 'dtype': <class 'numpy.float32'>, 'quantization': (0.0, 0)}]\n"
     ]
    }
   ],
   "source": [
    "# Get input and output tensors.\n",
    "input_details = interpreter.get_input_details()\n",
    "print(input_details)"
   ]
  },
  {
   "cell_type": "code",
   "execution_count": 4,
   "metadata": {},
   "outputs": [
    {
     "name": "stdout",
     "output_type": "stream",
     "text": [
      "[{'name': 'output_eyes_contours_and_brows', 'index': 384, 'shape': array([  1, 213]), 'dtype': <class 'numpy.float32'>, 'quantization': (0.0, 0)}, {'name': 'output_iris', 'index': 385, 'shape': array([ 1, 15]), 'dtype': <class 'numpy.float32'>, 'quantization': (0.0, 0)}]\n"
     ]
    }
   ],
   "source": [
    "output_details = interpreter.get_output_details()\n",
    "print(output_details)"
   ]
  },
  {
   "cell_type": "code",
   "execution_count": 5,
   "metadata": {},
   "outputs": [
    {
     "name": "stdout",
     "output_type": "stream",
     "text": [
      "(1, 64, 64, 3)\n",
      "[[ 2.2668089e+01  3.1600819e+01  4.1118989e+00  2.4252527e+01\n",
      "   3.2755821e+01  2.9070623e+00  2.5861870e+01  3.3223793e+01\n",
      "   1.8756853e+00  2.7870913e+01  3.3584354e+01  6.4304203e-01\n",
      "   3.0999975e+01  3.3393456e+01 -2.9721558e-01  3.3918194e+01\n",
      "   3.2462429e+01 -4.8809105e-01  3.6648438e+01  3.1227747e+01\n",
      "  -2.3731513e-01  3.8308975e+01  3.0567188e+01  3.9501965e-01\n",
      "   3.9086895e+01  2.9908396e+01  3.7639251e-01  2.3528460e+01\n",
      "   3.0742283e+01  2.6475134e+00  2.4541588e+01  2.9670614e+01\n",
      "   1.6555779e+00  2.6154776e+01  2.8416225e+01  6.2508893e-01\n",
      "   2.9300264e+01  2.7431513e+01 -4.2028058e-02  3.2429432e+01\n",
      "   2.7312405e+01 -3.6969039e-01  3.5496105e+01  2.7971645e+01\n",
      "  -2.8705364e-01  3.7853199e+01  2.9210896e+01  1.3715948e-01\n",
      "   2.1162621e+01  3.2158047e+01  4.6666131e+00  2.3402069e+01\n",
      "   3.4790901e+01  3.1162288e+00  2.5465849e+01  3.6269672e+01\n",
      "   1.6076767e+00  2.8560364e+01  3.6457413e+01  1.2489887e-02\n",
      "   3.1889761e+01  3.5761242e+01 -9.5267522e-01  3.5267799e+01\n",
      "   3.4558884e+01 -1.4212229e+00  3.7880974e+01  3.2909008e+01\n",
      "  -1.2098955e+00  3.9430058e+01  3.1454157e+01 -7.2158575e-01\n",
      "   4.0260731e+01  2.9601955e+01 -3.9091554e-01  2.0426319e+01\n",
      "   2.9532413e+01  2.9527338e+00  2.1565523e+01  2.7201345e+01\n",
      "   1.1759590e+00  2.3745260e+01  2.4995420e+01 -3.0409755e-02\n",
      "   2.7360458e+01  2.3640032e+01 -1.0854521e+00  3.1339832e+01\n",
      "   2.3455538e+01 -1.2741752e+00  3.5188332e+01  2.4556019e+01\n",
      "  -8.3214658e-01  3.8898651e+01  2.7238981e+01 -3.2155824e-01\n",
      "   1.9432747e+01  3.4195175e+01  5.8793907e+00  2.1750687e+01\n",
      "   3.8830704e+01  4.5364108e+00  2.4329111e+01  4.0238453e+01\n",
      "   2.5221417e+00  2.8285410e+01  4.0662346e+01  2.1273476e-01\n",
      "   3.2866814e+01  3.9420456e+01 -1.3153070e+00  3.6829254e+01\n",
      "   3.7321697e+01 -2.1055562e+00  3.9662918e+01  3.5009277e+01\n",
      "  -2.2252829e+00  4.1392342e+01  3.3120304e+01 -2.4812369e+00\n",
      "   4.2475548e+01  3.0197987e+01 -2.6445367e+00  1.8305790e+01\n",
      "   3.0079241e+01  4.1456194e+00  1.8949987e+01  2.6433786e+01\n",
      "   1.7139379e+00  2.1300508e+01  2.3691339e+01 -1.9826359e-01\n",
      "   2.5316519e+01  2.1750586e+01 -1.5694776e+00  3.0584681e+01\n",
      "   2.1213188e+01 -2.2609019e+00  3.6870003e+01  2.2544277e+01\n",
      "  -2.4160497e+00  4.0637753e+01  2.5883131e+01 -2.1217482e+00\n",
      "   1.6920855e+01  3.6289219e+01  8.1976671e+00  1.5594961e+01\n",
      "   3.0413773e+01  5.7307081e+00  1.5201827e+01  2.5327539e+01\n",
      "   2.9440901e+00  1.7778742e+01  2.1653608e+01  4.4733948e-01\n",
      "   2.2509029e+01  1.8822590e+01 -2.0411687e+00  2.9035311e+01\n",
      "   1.7373678e+01 -4.4474354e+00  1.4566258e+01  3.8066868e+01\n",
      "   1.1321551e+01  1.9251554e+01  4.2751186e+01  6.1757741e+00\n",
      "   2.2642317e+01  4.5496601e+01  2.8134043e+00  2.7691963e+01\n",
      "   4.5977196e+01 -6.7643315e-01  3.4190239e+01  4.3375851e+01\n",
      "  -2.2883637e+00  3.8134140e+01  4.0332146e+01 -3.1824138e+00\n",
      "   4.1165546e+01  3.7404949e+01 -4.1723804e+00  4.2991661e+01\n",
      "   3.4458652e+01 -4.4829340e+00  4.3749176e+01  3.0612026e+01\n",
      "  -5.2372293e+00  1.3147568e+01  3.0621803e+01  9.1742573e+00\n",
      "   1.2611835e+01  2.4582071e+01  6.0609794e+00  1.4903861e+01\n",
      "   1.9620243e+01  2.2399681e+00  2.0247581e+01  1.6112700e+01\n",
      "  -1.0602546e+00  2.7414806e+01  1.4236613e+01 -4.7112494e+00\n",
      "   3.5948936e+01  1.3429992e+01 -6.9275179e+00  3.8479641e+01\n",
      "   1.8437845e+01 -6.4364800e+00  4.3474735e+01  2.4988201e+01\n",
      "  -6.5318308e+00]]\n"
     ]
    },
    {
     "data": {
      "text/plain": [
       "<matplotlib.image.AxesImage at 0x2097e897548>"
      ]
     },
     "execution_count": 5,
     "metadata": {},
     "output_type": "execute_result"
    }
   ],
   "source": [
    "import cv2\n",
    "import numpy as np\n",
    "import matplotlib.pyplot as plt\n",
    "img=cv2.imread(\"E:/eye_blink_detection/eyelids_open_image/save.png\")\n",
    "img=cv2.resize(img,(64,64))\n",
    "img1=img.copy()\n",
    "img=img/255\n",
    "img=[img]\n",
    "img = np.concatenate([arr[np.newaxis] for arr in img])\n",
    "#print(img.shape)\n",
    "print(img.shape)\n",
    "img=img.astype(\"float32\")\n",
    "#input_shape = input_details[0]['shape']\n",
    "#input_data = np.array(np.random.random_sample(input_shape), dtype=np.float32)\n",
    "tensor_index = interpreter.get_input_details()[0]['index']\n",
    "input_tensor_z= tf.convert_to_tensor(img, np.float32)\n",
    "interpreter.set_tensor(tensor_index, input_tensor_z)\n",
    "\n",
    "\n",
    "interpreter.invoke()\n",
    "\n",
    " \n",
    "output_data = interpreter.get_tensor(output_details[0]['index'])\n",
    "print(output_data)\n",
    "landmarks=output_data\n",
    "plt.imshow(img1)"
   ]
  },
  {
   "cell_type": "code",
   "execution_count": 6,
   "metadata": {},
   "outputs": [
    {
     "data": {
      "text/plain": [
       "71"
      ]
     },
     "execution_count": 6,
     "metadata": {},
     "output_type": "execute_result"
    }
   ],
   "source": [
    "len(output_data[0])//3"
   ]
  },
  {
   "cell_type": "code",
   "execution_count": 7,
   "metadata": {},
   "outputs": [
    {
     "name": "stdout",
     "output_type": "stream",
     "text": [
      "[ 2.2668089e+01  3.1600819e+01  4.1118989e+00  2.4252527e+01\n",
      "  3.2755821e+01  2.9070623e+00  2.5861870e+01  3.3223793e+01\n",
      "  1.8756853e+00  2.7870913e+01  3.3584354e+01  6.4304203e-01\n",
      "  3.0999975e+01  3.3393456e+01 -2.9721558e-01  3.3918194e+01\n",
      "  3.2462429e+01 -4.8809105e-01  3.6648438e+01  3.1227747e+01\n",
      " -2.3731513e-01  3.8308975e+01  3.0567188e+01  3.9501965e-01\n",
      "  3.9086895e+01  2.9908396e+01  3.7639251e-01  2.3528460e+01\n",
      "  3.0742283e+01  2.6475134e+00  2.4541588e+01  2.9670614e+01\n",
      "  1.6555779e+00  2.6154776e+01  2.8416225e+01  6.2508893e-01\n",
      "  2.9300264e+01  2.7431513e+01 -4.2028058e-02  3.2429432e+01\n",
      "  2.7312405e+01 -3.6969039e-01  3.5496105e+01  2.7971645e+01\n",
      " -2.8705364e-01  3.7853199e+01  2.9210896e+01  1.3715948e-01\n",
      "  2.1162621e+01  3.2158047e+01  4.6666131e+00  2.3402069e+01\n",
      "  3.4790901e+01  3.1162288e+00  2.5465849e+01  3.6269672e+01\n",
      "  1.6076767e+00  2.8560364e+01  3.6457413e+01  1.2489887e-02\n",
      "  3.1889761e+01  3.5761242e+01 -9.5267522e-01  3.5267799e+01\n",
      "  3.4558884e+01 -1.4212229e+00  3.7880974e+01  3.2909008e+01\n",
      " -1.2098955e+00  3.9430058e+01  3.1454157e+01 -7.2158575e-01\n",
      "  4.0260731e+01  2.9601955e+01 -3.9091554e-01  2.0426319e+01\n",
      "  2.9532413e+01  2.9527338e+00  2.1565523e+01  2.7201345e+01\n",
      "  1.1759590e+00  2.3745260e+01  2.4995420e+01 -3.0409755e-02\n",
      "  2.7360458e+01  2.3640032e+01 -1.0854521e+00  3.1339832e+01\n",
      "  2.3455538e+01 -1.2741752e+00  3.5188332e+01  2.4556019e+01\n",
      " -8.3214658e-01  3.8898651e+01  2.7238981e+01 -3.2155824e-01\n",
      "  1.9432747e+01  3.4195175e+01  5.8793907e+00  2.1750687e+01\n",
      "  3.8830704e+01  4.5364108e+00  2.4329111e+01  4.0238453e+01\n",
      "  2.5221417e+00  2.8285410e+01  4.0662346e+01  2.1273476e-01\n",
      "  3.2866814e+01  3.9420456e+01 -1.3153070e+00  3.6829254e+01\n",
      "  3.7321697e+01 -2.1055562e+00  3.9662918e+01  3.5009277e+01\n",
      " -2.2252829e+00  4.1392342e+01  3.3120304e+01 -2.4812369e+00\n",
      "  4.2475548e+01  3.0197987e+01 -2.6445367e+00  1.8305790e+01\n",
      "  3.0079241e+01  4.1456194e+00  1.8949987e+01  2.6433786e+01\n",
      "  1.7139379e+00  2.1300508e+01  2.3691339e+01 -1.9826359e-01\n",
      "  2.5316519e+01  2.1750586e+01 -1.5694776e+00  3.0584681e+01\n",
      "  2.1213188e+01 -2.2609019e+00  3.6870003e+01  2.2544277e+01\n",
      " -2.4160497e+00  4.0637753e+01  2.5883131e+01 -2.1217482e+00\n",
      "  1.6920855e+01  3.6289219e+01  8.1976671e+00  1.5594961e+01\n",
      "  3.0413773e+01  5.7307081e+00  1.5201827e+01  2.5327539e+01\n",
      "  2.9440901e+00  1.7778742e+01  2.1653608e+01  4.4733948e-01\n",
      "  2.2509029e+01  1.8822590e+01 -2.0411687e+00  2.9035311e+01\n",
      "  1.7373678e+01 -4.4474354e+00  1.4566258e+01  3.8066868e+01\n",
      "  1.1321551e+01  1.9251554e+01  4.2751186e+01  6.1757741e+00\n",
      "  2.2642317e+01  4.5496601e+01  2.8134043e+00  2.7691963e+01\n",
      "  4.5977196e+01 -6.7643315e-01  3.4190239e+01  4.3375851e+01\n",
      " -2.2883637e+00  3.8134140e+01  4.0332146e+01 -3.1824138e+00\n",
      "  4.1165546e+01  3.7404949e+01 -4.1723804e+00  4.2991661e+01\n",
      "  3.4458652e+01 -4.4829340e+00  4.3749176e+01  3.0612026e+01\n",
      " -5.2372293e+00  1.3147568e+01  3.0621803e+01  9.1742573e+00\n",
      "  1.2611835e+01  2.4582071e+01  6.0609794e+00  1.4903861e+01\n",
      "  1.9620243e+01  2.2399681e+00  2.0247581e+01  1.6112700e+01\n",
      " -1.0602546e+00  2.7414806e+01  1.4236613e+01 -4.7112494e+00\n",
      "  3.5948936e+01  1.3429992e+01 -6.9275179e+00  3.8479641e+01\n",
      "  1.8437845e+01 -6.4364800e+00  4.3474735e+01  2.4988201e+01\n",
      " -6.5318308e+00]\n"
     ]
    }
   ],
   "source": [
    "print(output_data[0])"
   ]
  },
  {
   "cell_type": "code",
   "execution_count": 9,
   "metadata": {},
   "outputs": [
    {
     "data": {
      "image/png": "[encoded data removed]",
      "text/plain": [
       "<Figure size 432x288 with 1 Axes>"
      ]
     },
     "metadata": {
      "needs_background": "light"
     },
     "output_type": "display_data"
    }
   ],
   "source": [
    "img1_annoted = img1.copy()\n",
    "for index in range(71):\n",
    "    x_index = (index-1)*3\n",
    "    y_index = (index-1)*3+1\n",
    "    x = int(output_data[0][x_index])\n",
    "    y = int(output_data[0][y_index])\n",
    "    color = (255, 0, 0)\n",
    "    img1_annoted = cv2.circle(img1_annoted,(x,y),1, color, 1)\n",
    "    plt.imshow(img1_annoted)"
   ]
  },
  {
   "cell_type": "code",
   "execution_count": null,
   "metadata": {},
   "outputs": [],
   "source": []
  }
 ],
 "metadata": {
  "kernelspec": {
   "display_name": "Python 3",
   "language": "python",
   "name": "python3"
  },
  "language_info": {
   "codemirror_mode": {
    "name": "ipython",
    "version": 3
   },
   "file_extension": ".py",
   "mimetype": "text/x-python",
   "name": "python",
   "nbconvert_exporter": "python",
   "pygments_lexer": "ipython3",
   "version": "3.7.4"
  }
 },
 "nbformat": 4,
 "nbformat_minor": 2
}
